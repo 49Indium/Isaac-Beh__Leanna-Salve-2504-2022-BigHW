{
 "cells": [
  {
   "cell_type": "markdown",
   "metadata": {},
   "source": [
    "### MATH2504 S2, 2022, BigHW Submission \n",
    "### Submission form II of IV "
   ]
  },
  {
   "cell_type": "markdown",
   "metadata": {},
   "source": [
    "Student #1 name: Isaac Beh\n",
    "\n",
    "Student #1 ID: 45919260\n",
    "\n",
    "Student #2 name: Leanna Salve\n",
    "\n",
    "Student #2 ID: 47038156\n",
    "\n",
    "GitHub repo: [Isaac-Beh__Leanna-Salve-2504-2022-BigHW](https://github.com/49Indium/Isaac-Beh__Leanna-Salve-2504-2022-BigHW)"
   ]
  },
  {
   "cell_type": "markdown",
   "metadata": {},
   "source": [
    "---"
   ]
  },
  {
   "cell_type": "markdown",
   "metadata": {},
   "source": [
    "# Solution to [Question 5](https://courses.smp.uq.edu.au/MATH2504/2022/assessment_html/bighw.html#q5)"
   ]
  },
  {
   "cell_type": "code",
   "execution_count": null,
   "metadata": {},
   "outputs": [],
   "source": [
    "function is_perfect(x::Int)\n",
    "    sum = 0\n",
    "    # Only loop up two the geometric centre, as factos come in pairs\n",
    "    for potential_factor in 1:isqrt(x)\n",
    "        if x % potential_factor == 0\n",
    "            sum += potential_factor + Int(x / potential_factor)\n",
    "        end\n",
    "    end\n",
    "    # Account for the fact that square numbers will get their square root added twice\n",
    "    if isqrt(x)^2 == x\n",
    "        sum -= isqrt(x)\n",
    "    end\n",
    "    return sum == 2x\n",
    "end\n",
    "\n",
    "max_value = 10^6\n",
    "\n",
    "# Get only the numbers such that is_perfect is true\n",
    "perfect_numbers = (1:max_value)[is_perfect.(1:max_value)]\n",
    "println(\"The perfect numbers less than $(max_value) are: $(perfect_numbers)\")"
   ]
  },
  {
   "cell_type": "markdown",
   "metadata": {},
   "source": [
    "# Solution to [Question 6](https://courses.smp.uq.edu.au/MATH2504/2022/assessment_html/bighw.html#q6)"
   ]
  },
  {
   "cell_type": "code",
   "execution_count": null,
   "metadata": {},
   "outputs": [],
   "source": [
    "# *** TODO see BgHW checklist for question ***\n",
    "\n",
    "\"\"\"\n",
    "Returns the all the primes up to n.\n",
    "\"\"\"\n",
    "function sieve_of_Eratosthenes(n)\n",
    "    primebits = ones(Bool,n) #Will contain true if the index is prime (initially all assumed prime)\n",
    "    primebits[1] = false #The number 1 is not prime\n",
    "    p = 2 #Smallest prime\n",
    "    while p ≤ n\n",
    "        primebits[2p:p:n] .= false\n",
    "        p += 1\n",
    "        while p ≤ n && !primebits[p]\n",
    "            p += 1\n",
    "        end\n",
    "    end\n",
    "    return (1:n)[primebits]\n",
    "end\n",
    "\n",
    "function get_goldbach_pairs(n = 10^5)\n",
    "\n",
    "    even_range = 4:2:n\n",
    "    number_of_pairs = zeros(Int64, n)\n",
    "\n",
    "    # Remove 2 as its only pair is 2+2\n",
    "    primes = setdiff(sieve_of_Eratosthenes(n), [2])\n",
    "    append!(primes, n)\n",
    "    # Add the pair for 4\n",
    "    number_of_pairs[4] = 1\n",
    "\n",
    "    number_of_primes = length(primes)\n",
    "\n",
    "    # Bounds already checked for\n",
    "    @inbounds for (i1, p1) in enumerate(primes[1:end-1])\n",
    "        if 2*p1 <= n\n",
    "            # Check the diagonal of the addition table\n",
    "            number_of_pairs[2*p1] += 1\n",
    "\n",
    "            i2 = i1 + 1\n",
    "            # Index used so that once a high enough value is reached, it doesn't search the rest of the primebits\n",
    "            while p1 + primes[i2] <= n\n",
    "                # Count twice for each permutation of the pair\n",
    "                number_of_pairs[p1+primes[i2]] += 2\n",
    "                i2 += 1\n",
    "            end\n",
    "        end\n",
    "\n",
    "    end\n",
    "\n",
    "    return number_of_pairs\n",
    "end\n",
    "\n",
    "n = 10^6\n",
    "\n",
    "number_of_pairs = get_goldbach_pairs(n)\n",
    "even_range = 4:2:n\n",
    "\n",
    "if 0 ∈ number_of_pairs[even_range]\n",
    "    println(\"Found a counter example for Goldbach: $(2*findfirst(x -> x==0, number_of_pairs) + 2)\")\n",
    "end\n",
    "\n",
    "indexes = rand(even_range, 2000)\n",
    "\n",
    "using Plots\n",
    "scatter(indexes,number_of_pairs[indexes],legend=false,xlabel=\"n\",ylabel=\"Number of Goldbach pairs\")\n"
   ]
  },
  {
   "cell_type": "markdown",
   "metadata": {},
   "source": [
    "# Solution to [Question 7](https://courses.smp.uq.edu.au/MATH2504/2022/assessment_html/bighw.html#q7)"
   ]
  },
  {
   "cell_type": "markdown",
   "metadata": {},
   "source": [
    "#### 7a:"
   ]
  },
  {
   "cell_type": "markdown",
   "metadata": {},
   "source": [
    "Note: All the `@asserts` in the text below show that the following statements are true.\n",
    "\n",
    "The code `random_license_plate() = String(rand('0':'9',3)) * \" \" * String(rand('A':'Z',3))` creates a new function. It is just short-hand for:\n",
    "```Julia\n",
    "function random_license_plate()\n",
    "    return String(rand('0':'9',3)) * \" \" * String(rand('A':'Z',3))\n",
    "end\n",
    "```\n",
    "For example, we can the typical calulus definition of a function:\n",
    "```Julia\n",
    "f(x) = x^2\n",
    "@assert f(-10) == 100\n",
    "```\n",
    "<br>\n",
    "\n",
    "The `*` operator concatinates string (i.e. sticks two strings together into one). In MATLAB you might do `[str1, str2]`, but this does not work in Julia, as it will not horizontally join the character arrays, but will create an array of two strings. Using `*`, we can join the strings together; for example:\n",
    "```Julia\n",
    "@assert \"These \" * \"strings \" * \"will be\" * \" joined.\" == \"These strings will be joined.\"\n",
    "```\n",
    "<br>\n",
    "\n",
    "The function `rand` has many uses depending on the argument(s) used. If the first argument is a type or an array, it dictates the values to be choosen (with uniform probability). By default, they are the floats from 0 to 1. The next parameters dictate the size of the array returned. For example:\n",
    "```Julia\n",
    "array_of_numbers = rand(1:3, 5)\n",
    "@assert length(array_of_numbers) == 5\n",
    "@assert 1 <= minimum(array_of_numbers) && maximum(array_of_numbers) <= 3\n",
    "```\n",
    "<br>\n",
    "\n",
    "The `[ X for _ in Y ]` pattern creates an array of `X` repeated for the length of array `Y`. In `[random_license_plate() for _ in 1:N]`, it creates an array of length `N`, each a seperate result of `random_license_plate()`. The variable `_` is an unused dummy variable; whilst it loops through `Y`, we do not care what it;s value is. For example:\n",
    "```Julia\n",
    "@assert [1 for _ in 1:100] == ones(Int, 100)\n",
    "```\n",
    "<br>\n",
    "\n",
    "If a function is to return multiple values, it can return them as a tuple, as seen in `return indexes, plates`. This is similar to MATLAB syntax, so when calling the function, two variables can be assigned. For example:\n",
    "```Julia\n",
    "double_pair(x) = x, 2*x\n",
    "a, b = double_pair(4)\n",
    "@assert a == 4 && b == 8\n",
    "```\n",
    "\n",
    "The function `sortperm` sorts an array, but instead of returning the sorted version (like `sort`) it returns how the indexes change when they are sorted. If `1` is in the second place of the returned array, it means that the first element (when sorted) goes in the second place. For example:\n",
    "```Julia\n",
    "test_array = ['A', 'C', 'B']\n",
    "permutation = sortperm(test_array)\n",
    "@assert permutation == [1, 3, 2]\n",
    "@assert test_array(permutation) == ['A', 'B', 'C']\n",
    "```"
   ]
  },
  {
   "cell_type": "markdown",
   "metadata": {},
   "source": [
    "#### 7b:"
   ]
  },
  {
   "cell_type": "markdown",
   "metadata": {},
   "source": [
    "The probability of getting more than 1 index can be found by considering the following:\n",
    "Let $M_i$ be the event that index $i$ matches the index 1234567890. Note that $\\mathbb{P}\\left(M_1\\right)=\\frac{1}{10^{12}}=10^{-12}$ as there are $10^{12}$ equally likely indicies. The probability of getting a matching index 1234567890 (which we will label $\\mathbb{P}(A)$) is the complement of the probability of getting no matches. There are $10^7-1$ indicies other than 1234567890 and $M_1,\\ldots,M_{10^7-1}$ are independent, so:\n",
    "$$\\mathbb{P}(A) = 1 - \\mathbb{P}\\left(M_1'\\text{ and }M_2'\\text{ and }\\cdots\\text{ and }M_{10^7-1}'\\right) = \\mathbb{P}\\left(M_1'\\right)\\mathbb{P}\\left(M_2'\\right)\\cdots\\mathbb{P}\\left(M_{10^7-1}'\\right) = \\left(\\mathbb{P}\\left(M_1'\\right)\\right)^{10^7-1} = \\left(1 - \\mathbb{P}\\left(M_1\\right)\\right)^{10^7-1} = \\left(1 - 10^{-12}\\right)^{10^7-1}\\approx0.99$$"
   ]
  },
  {
   "cell_type": "code",
   "execution_count": null,
   "metadata": {},
   "outputs": [],
   "source": [
    "(1 - 10^-12) ^ (10^7 - 1)"
   ]
  },
  {
   "cell_type": "markdown",
   "metadata": {},
   "source": [
    "#### 7c:"
   ]
  },
  {
   "cell_type": "code",
   "execution_count": null,
   "metadata": {},
   "outputs": [],
   "source": [
    "using Random\n",
    "\n",
    "random_license_plate() = String(rand('0':'9',3)) * \" \" * String(rand('A':'Z',3))\n",
    "\n",
    "function prepare_data(;N = 10^7)\n",
    "    Random.seed!(1)\n",
    "    indexes = rand(1:10^12, N)\n",
    "    plates = [random_license_plate() for _ in 1:N]\n",
    "\n",
    "    #One specific spot is set to a special value.\n",
    "    special_spot = Int(floor(0.9*N)) #Arbitrary index\n",
    "    indexes[special_spot], plates[special_spot] = 1234567890, \"000 ZZZ\"\n",
    "    \n",
    "    return indexes, plates\n",
    "end\n",
    "\n",
    "function prepare_sorted_data(;N = 10^7)\n",
    "    indexes, plates = prepare_data(N=N)  \n",
    "    perm = sortperm(indexes)\n",
    "    return indexes[perm], plates[perm]\n",
    "end\n",
    "\n",
    "function find_special_plate(indexes, plates; special_index = 1234567890)\n",
    "    for (i, index) in enumerate(indexes) \n",
    "        if index == special_index \n",
    "            return plates[i]\n",
    "        end\n",
    "    end \n",
    "    throw(Error(\"Index not found\"))\n",
    "end\n",
    "\n",
    "# If actual values isn't found, a neighbouring value will be\n",
    "function find_special_plate_binary_search(indexes, plates; special_index = 1234567890)\n",
    "    lower_bound = 1\n",
    "    upper_bound = length(indexes)\n",
    "    while lower_bound < upper_bound\n",
    "        midpoint = fld((upper_bound+lower_bound), 2)\n",
    "        if indexes[midpoint] < special_index\n",
    "            lower_bound = midpoint+1\n",
    "        else\n",
    "            upper_bound = midpoint\n",
    "        end\n",
    "    end\n",
    "    return plates[lower_bound]\n",
    "end\n",
    "\n",
    "using BenchmarkTools\n",
    "\n",
    "indexes, plates = prepare_sorted_data(N=10^7)\n",
    "\n",
    "# Dolar signs to time the functions only, not retriving the global veriables\n",
    "@btime find_special_plate($indexes, $plates)\n",
    "@btime find_special_plate_binary_search($indexes, $plates)"
   ]
  },
  {
   "cell_type": "markdown",
   "metadata": {},
   "source": [
    "We got the ordinary function to take 9.200 μs (equivalently 9200 ns), whereas the binary search took 117.505 ns, so the binary search is approximately $\\frac{9200}{117.505} \\approx 80$ times faster."
   ]
  },
  {
   "cell_type": "code",
   "execution_count": null,
   "metadata": {},
   "outputs": [],
   "source": [
    "9200 / 117.505"
   ]
  },
  {
   "cell_type": "markdown",
   "metadata": {},
   "source": [
    "#### 7d:"
   ]
  },
  {
   "cell_type": "markdown",
   "metadata": {},
   "source": [
    "Each loop of the alogrithm reduces `upper_bound - lower_bound + 1` by a half (plus or minus 1 but this is insignificant when `indexes` is large, so the number of steps is large). Note the `+1` in the previous value is because `lower_bound` and `upper_bound` are inclusive bounds. As each iteration cuts down the options by approximately half, `upper_bound - lower_bound + 1` will be approximately $\\frac{n}{2^i}$ after $i$ steps if $n$ is length of `indexes`. The algorithm ends when `upper_bound - lower_bound + 1` is equal to 1, so\n",
    "$$\\frac{n}{2^i}=1 \\implies n=2^i \\implies i=\\log_2 n$$\n",
    "when the algorithm ends. Thus, we have a time complexity of $\\operatorname{O}\\left(\\log_2 n\\right)$ which is equivalent to  $\\operatorname{O}\\left(\\ln n\\right)$."
   ]
  },
  {
   "cell_type": "markdown",
   "metadata": {},
   "source": [
    "# Solution to [Question 8](https://courses.smp.uq.edu.au/MATH2504/2022/assessment_html/bighw.html#q8)"
   ]
  },
  {
   "cell_type": "markdown",
   "metadata": {},
   "source": [
    "#### 8a:"
   ]
  },
  {
   "cell_type": "code",
   "execution_count": null,
   "metadata": {},
   "outputs": [],
   "source": []
  },
  {
   "cell_type": "markdown",
   "metadata": {},
   "source": [
    "#### 8b:"
   ]
  },
  {
   "cell_type": "code",
   "execution_count": null,
   "metadata": {},
   "outputs": [],
   "source": []
  },
  {
   "cell_type": "markdown",
   "metadata": {},
   "source": [
    "#### 8c:"
   ]
  },
  {
   "cell_type": "code",
   "execution_count": null,
   "metadata": {},
   "outputs": [],
   "source": []
  },
  {
   "cell_type": "markdown",
   "metadata": {},
   "source": [
    "#### 8d:"
   ]
  },
  {
   "cell_type": "code",
   "execution_count": null,
   "metadata": {},
   "outputs": [],
   "source": []
  },
  {
   "cell_type": "markdown",
   "metadata": {},
   "source": [
    "# Solution to [Question 9](https://courses.smp.uq.edu.au/MATH2504/2022/assessment_html/bighw.html#q9)"
   ]
  },
  {
   "cell_type": "markdown",
   "metadata": {},
   "source": [
    "#### 9a:"
   ]
  },
  {
   "cell_type": "code",
   "execution_count": null,
   "metadata": {},
   "outputs": [],
   "source": []
  },
  {
   "cell_type": "markdown",
   "metadata": {},
   "source": [
    "#### 9b:"
   ]
  },
  {
   "cell_type": "code",
   "execution_count": null,
   "metadata": {},
   "outputs": [],
   "source": []
  },
  {
   "cell_type": "markdown",
   "metadata": {},
   "source": [
    "#### 9c:"
   ]
  },
  {
   "cell_type": "code",
   "execution_count": null,
   "metadata": {},
   "outputs": [],
   "source": []
  },
  {
   "cell_type": "markdown",
   "metadata": {},
   "source": [
    "#### 9d:\n"
   ]
  },
  {
   "cell_type": "code",
   "execution_count": null,
   "metadata": {},
   "outputs": [],
   "source": []
  }
 ],
 "metadata": {
  "kernelspec": {
   "display_name": "Julia 1.7.3",
   "language": "julia",
   "name": "julia-1.7"
  },
  "language_info": {
   "file_extension": ".jl",
   "mimetype": "application/julia",
   "name": "julia",
   "version": "1.7.3"
  }
 },
 "nbformat": 4,
 "nbformat_minor": 4
}
