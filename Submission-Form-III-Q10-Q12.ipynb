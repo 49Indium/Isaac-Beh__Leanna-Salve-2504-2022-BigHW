{
 "cells": [
  {
   "cell_type": "markdown",
   "metadata": {},
   "source": [
    "### MATH2504 S2, 2022, BigHW Submission \n",
    "### Submission form III of IV "
   ]
  },
  {
   "cell_type": "markdown",
   "metadata": {},
   "source": [
    "Student #1 name: Isaac Beh\n",
    "\n",
    "Student #1 ID: 45919260\n",
    "\n",
    "Student #2 name: Leanna Salve\n",
    "\n",
    "Student #2 ID: 47038156\n",
    "\n",
    "GitHub repo: [Isaac-Beh__Leanna-Salve-2504-2022-BigHW](https://github.com/49Indium/Isaac-Beh__Leanna-Salve-2504-2022-BigHW)"
   ]
  },
  {
   "cell_type": "markdown",
   "metadata": {},
   "source": [
    "---"
   ]
  },
  {
   "cell_type": "markdown",
   "metadata": {},
   "source": [
    "# Solution to [Question 10](https://courses.smp.uq.edu.au/MATH2504/2022/assessment_html/bighw.html#q10)"
   ]
  },
  {
   "cell_type": "code",
   "execution_count": null,
   "metadata": {},
   "outputs": [],
   "source": []
  },
  {
   "cell_type": "markdown",
   "metadata": {},
   "source": [
    "# Solution to [Question 11](https://courses.smp.uq.edu.au/MATH2504/2022/assessment_html/bighw.html#q11)"
   ]
  },
  {
   "cell_type": "markdown",
   "metadata": {},
   "source": [
    "#### 11a:"
   ]
  },
  {
   "cell_type": "code",
   "execution_count": null,
   "metadata": {},
   "outputs": [],
   "source": []
  },
  {
   "cell_type": "markdown",
   "metadata": {},
   "source": [
    "#### 11b:"
   ]
  },
  {
   "cell_type": "code",
   "execution_count": null,
   "metadata": {},
   "outputs": [],
   "source": []
  },
  {
   "cell_type": "markdown",
   "metadata": {},
   "source": [
    "#### 11c:"
   ]
  },
  {
   "cell_type": "code",
   "execution_count": null,
   "metadata": {},
   "outputs": [],
   "source": []
  },
  {
   "cell_type": "markdown",
   "metadata": {},
   "source": [
    "#### 11d:"
   ]
  },
  {
   "cell_type": "code",
   "execution_count": null,
   "metadata": {},
   "outputs": [],
   "source": []
  },
  {
   "cell_type": "markdown",
   "metadata": {},
   "source": [
    "#### 11e:"
   ]
  },
  {
   "cell_type": "code",
   "execution_count": null,
   "metadata": {},
   "outputs": [],
   "source": []
  },
  {
   "cell_type": "markdown",
   "metadata": {},
   "source": [
    "#### 11f:"
   ]
  },
  {
   "cell_type": "code",
   "execution_count": null,
   "metadata": {},
   "outputs": [],
   "source": []
  },
  {
   "cell_type": "markdown",
   "metadata": {},
   "source": [
    "#### 11g:"
   ]
  },
  {
   "cell_type": "code",
   "execution_count": null,
   "metadata": {},
   "outputs": [],
   "source": []
  },
  {
   "cell_type": "markdown",
   "metadata": {},
   "source": [
    "#### 11h:"
   ]
  },
  {
   "cell_type": "code",
   "execution_count": null,
   "metadata": {},
   "outputs": [],
   "source": []
  },
  {
   "cell_type": "markdown",
   "metadata": {},
   "source": [
    "#### 11i:"
   ]
  },
  {
   "cell_type": "code",
   "execution_count": null,
   "metadata": {},
   "outputs": [],
   "source": []
  },
  {
   "cell_type": "markdown",
   "metadata": {},
   "source": [
    "#### 11j:"
   ]
  },
  {
   "cell_type": "code",
   "execution_count": null,
   "metadata": {},
   "outputs": [],
   "source": []
  },
  {
   "cell_type": "markdown",
   "metadata": {},
   "source": [
    "#### 11k:"
   ]
  },
  {
   "cell_type": "code",
   "execution_count": null,
   "metadata": {},
   "outputs": [],
   "source": []
  },
  {
   "cell_type": "markdown",
   "metadata": {},
   "source": [
    "#### 11l:"
   ]
  },
  {
   "cell_type": "code",
   "execution_count": null,
   "metadata": {},
   "outputs": [],
   "source": []
  },
  {
   "cell_type": "markdown",
   "metadata": {},
   "source": [
    "#### 11m:"
   ]
  },
  {
   "cell_type": "code",
   "execution_count": null,
   "metadata": {},
   "outputs": [],
   "source": []
  },
  {
   "cell_type": "markdown",
   "metadata": {},
   "source": [
    "#### 11n:"
   ]
  },
  {
   "cell_type": "code",
   "execution_count": null,
   "metadata": {},
   "outputs": [],
   "source": []
  },
  {
   "cell_type": "markdown",
   "metadata": {},
   "source": [
    "#### 11o:"
   ]
  },
  {
   "cell_type": "code",
   "execution_count": null,
   "metadata": {},
   "outputs": [],
   "source": []
  },
  {
   "cell_type": "markdown",
   "metadata": {},
   "source": [
    "# Solution to [Question 12](https://courses.smp.uq.edu.au/MATH2504/2022/assessment_html/bighw.html#q12)"
   ]
  },
  {
   "cell_type": "code",
   "execution_count": 4,
   "metadata": {},
   "outputs": [
    {
     "name": "stdout",
     "output_type": "stream",
     "text": [
      "The total number of cells is 60\n",
      "The number of code cells is 33\n",
      "The number of code cells with output is 12\n",
      "The number of code cells without output is 21\n",
      "The number of markdown cells is 27\n",
      "Code cells have been executed 49 times\n",
      "The average code cell has been executed 1.48 times\n",
      "Out of code cells that have been executed, they have been executed an average of 4.08 times\n",
      "\n",
      "The first few lines of the markdown summery CSV:\n",
      "cell_number,character_count,line_count,#,##,###,####\n",
      "1,518,9,2,1,0,0\n",
      "2,77,2,0,0,1,0\n",
      "3,12,1,0,0,1,0\n",
      "\n",
      "The first few lines of the markdown summery CSV:\n",
      "cell_number,character_count,line_count,return,for,if,using\n",
      "4,72,1,0,0,0,0\n",
      "6,44,2,0,0,0,0\n",
      "8,37,1,0,1,0,0\n"
     ]
    }
   ],
   "source": [
    "using DataFrames, HTTP, JSON, CSV\n",
    "url = \"\"\"https://raw.githubusercontent.com/yoninazarathy/ProgrammingCourse-with-Julia-SimulationAnalysisAndLearningSystems/main/practicals_jupyter/practical_B_julia_essentials.ipynb\"\"\"\n",
    "notebook_request = HTTP.request(\"GET\", url)\n",
    "notebook_data = JSON.parse(String(notebook_request.body))\n",
    "\n",
    "cells = notebook_data[\"cells\"]\n",
    "println(\"The total number of cells is $(length(cells))\")\n",
    "\n",
    "code_cells = [cell for cell in cells if cell[\"cell_type\"] == \"code\"]\n",
    "println(\"The number of code cells is $(length(code_cells))\")\n",
    "\n",
    "code_cells_with_output = [cell for cell in code_cells if !isempty(cell[\"outputs\"])]\n",
    "println(\"The number of code cells with output is $(length(code_cells_with_output))\")\n",
    "println(\"The number of code cells without output is $(length(code_cells) - length(code_cells_with_output))\")\n",
    "\n",
    "markdown_cells = [cell for cell in cells if cell[\"cell_type\"] == \"markdown\"]\n",
    "println(\"The number of markdown cells is $(length(markdown_cells))\")\n",
    "\n",
    "max_execution_number = maximum(cell[\"execution_count\"] for cell in code_cells if cell[\"execution_count\"] != nothing)\n",
    "println(\"Code cells have been executed $(max_execution_number) times\")\n",
    "println(\"The average code cell has been executed $(round(max_execution_number/length(code_cells); digits = 2)) times\")\n",
    "println(\"Out of code cells that have been executed, they have been executed an average of $(round(max_execution_number/length(code_cells_with_output); digits = 2)) times\")\n",
    "\n",
    "markdown_summary = DataFrame(\n",
    "    \"cell_number\" => [i for (i, cell) in enumerate(cells) if cell[\"cell_type\"] == \"markdown\"],\n",
    "    \"character_count\" => [sum(length.(cell[\"source\"])) for cell in markdown_cells],\n",
    "    \"line_count\" => [length(cell[\"source\"]) for cell in markdown_cells],\n",
    "    \"#\" => [count(startswith.(cell[\"source\"], \"# \")) for cell in markdown_cells],\n",
    "    \"##\" => [count(startswith.(cell[\"source\"], \"## \")) for cell in markdown_cells],\n",
    "    \"###\" => [count(startswith.(cell[\"source\"], \"### \")) for cell in markdown_cells],\n",
    "    \"####\" => [count(startswith.(cell[\"source\"], \"#### \")) for cell in markdown_cells]\n",
    ")\n",
    "\n",
    "code_summary = DataFrame(\n",
    "    \"cell_number\" => [i for (i, cell) in enumerate(cells) if cell[\"cell_type\"] == \"code\"],\n",
    "    \"character_count\" => [sum(length.(cell[\"source\"])) for cell in code_cells],\n",
    "    \"line_count\" => [length(cell[\"source\"]) for cell in code_cells],\n",
    "    \"return\" => [sum(length.(findall.(\"return\", cell[\"source\"]))) for cell in code_cells],\n",
    "    \"for\" => [sum(length.(findall.(\"for\", cell[\"source\"]))) for cell in code_cells],\n",
    "    \"if\" => [sum(length.(findall.(\"if\", cell[\"source\"]))) for cell in code_cells],\n",
    "    \"using\" => [sum(length.(findall.(\"using\", cell[\"source\"]))) for cell in code_cells]\n",
    ")\n",
    "\n",
    "CSV.write(\"markdown_summary.csv\", markdown_summary)\n",
    "CSV.write(\"code_summary.csv\", code_summary)\n",
    "\n",
    "println(\"\\nThe first few lines of the markdown summery CSV:\")\n",
    "println.(readlines(\"markdown_summary.csv\")[1:4])\n",
    "\n",
    "println(\"\\nThe first few lines of the markdown summery CSV:\")\n",
    "println.(readlines(\"code_summary.csv\")[1:4]);"
   ]
  }
 ],
 "metadata": {
  "kernelspec": {
   "display_name": "Julia 1.7.3",
   "language": "julia",
   "name": "julia-1.7"
  },
  "language_info": {
   "file_extension": ".jl",
   "mimetype": "application/julia",
   "name": "julia",
   "version": "1.7.3"
  }
 },
 "nbformat": 4,
 "nbformat_minor": 4
}
