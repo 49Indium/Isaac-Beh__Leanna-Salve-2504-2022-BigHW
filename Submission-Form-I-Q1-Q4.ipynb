{
 "cells": [
  {
   "cell_type": "markdown",
   "metadata": {},
   "source": [
    "### MATH2504 S2, 2022, BigHW Submission \n",
    "### Submission form I of IV "
   ]
  },
  {
   "cell_type": "markdown",
   "metadata": {},
   "source": [
    "Student #1 name: Isaac Beh\n",
    "\n",
    "Student #1 ID: 45919260\n",
    "\n",
    "Student #2 name: Leanna Salve\n",
    "\n",
    "Student #2 ID: 47038156\n",
    "\n",
    "GitHub repo: [Isaac-Beh__Leanna-Salve-2504-2022-BigHW](https://github.com/49Indium/Isaac-Beh__Leanna-Salve-2504-2022-BigHW)"
   ]
  },
  {
   "cell_type": "markdown",
   "metadata": {},
   "source": [
    "---"
   ]
  },
  {
   "cell_type": "markdown",
   "metadata": {},
   "source": [
    "# Solution to [Question 1](https://courses.smp.uq.edu.au/MATH2504/2022/assessment_html/bighw.html#q1)"
   ]
  },
  {
   "cell_type": "markdown",
   "metadata": {},
   "source": [
    "#### 1a:"
   ]
  },
  {
   "cell_type": "markdown",
   "metadata": {},
   "source": [
    "$$\\varphi = 1 + \\frac{1}{1 + \\frac{1}{1 + \\frac{1}{1 + \\frac{1}{1 + \\ddots}}}}$$"
   ]
  },
  {
   "cell_type": "markdown",
   "metadata": {},
   "source": [
    "#### 1b:"
   ]
  },
  {
   "cell_type": "markdown",
   "metadata": {},
   "source": [
    "Isaac's favoruite books are:\n",
    "1. [Godel, Escher, Bach: An Eternal Golden Braid](https://www.goodreads.com/book/show/24113.G_del_Escher_Bach) by Douglas R. Hofstadter\n",
    "2. [Euthyphro](https://www.goodreads.com/book/show/811970.Euthyphro) by Plato (and translated by Chris Emlyn-Jones)\n",
    "3. [17776: What Football Will Look Like in the Future](https://www.goodreads.com/book/show/38491254-17776) by Jon Bois (if you count this as a book)\n",
    "4. [The Complete Short Stories of Ernest Hemmingway](https://www.goodreads.com/book/show/4625.The_Complete_Short_Stories_of_Ernest_Hemingway) by Ernest Hemmingway\n",
    "5. [A Prayer for Owen Meany](https://www.goodreads.com/book/show/4473.A_Prayer_for_Owen_Meany) by John Irving"
   ]
  },
  {
   "cell_type": "markdown",
   "metadata": {},
   "source": [
    "#### 1c:"
   ]
  },
  {
   "cell_type": "markdown",
   "metadata": {},
   "source": [
    "A cool XKCD comic we like:\n",
    "<img src=\"https://imgs.xkcd.com/comics/compiling.png\" alt=\"XKCD comic number 303: The #1 programmer's legitimate excuse to slacking off: It's compiling\" title=\"In Julia's case, just load multiple libraries at once and wait for that pre-processor\" width=300px>"
   ]
  },
  {
   "cell_type": "markdown",
   "metadata": {},
   "source": [
    "#### 1d:"
   ]
  },
  {
   "cell_type": "markdown",
   "metadata": {},
   "source": [
    "Isaac's timetable:\n",
    "<table>\n",
    "<thead>\n",
    "  <tr>\n",
    "    <th></th>\n",
    "    <th>Monday</th>\n",
    "    <th>Tueday</th>\n",
    "    <th>Wednesday</th>\n",
    "    <th>Thursday</th>\n",
    "    <th>Friday</th>\n",
    "  </tr>\n",
    "</thead>\n",
    "<tbody>\n",
    "  <tr>\n",
    "    <td>8-9</td>\n",
    "    <td>MATH2401 Lecture</td>\n",
    "    <td></td>\n",
    "    <td></td>\n",
    "    <td></td>\n",
    "    <td></td>\n",
    "  </tr>\n",
    "  <tr>\n",
    "    <td>9-10</td>\n",
    "    <td>MATH2401 Lecture (cont.)</td>\n",
    "    <td>MATH2401 Lecture</td>\n",
    "    <td></td>\n",
    "    <td>PHYS2041 Tutorial</td>\n",
    "    <td></td>\n",
    "  </tr>\n",
    "  <tr>\n",
    "    <td>10-11</td>\n",
    "    <td></td>\n",
    "    <td></td>\n",
    "    <td>STAT2004 Lecture</td>\n",
    "    <td></td>\n",
    "    <td>MATH2504 Practical</td>\n",
    "  </tr>\n",
    "  <tr>\n",
    "    <td>11-12</td>\n",
    "    <td>Analysis Seminar</td>\n",
    "    <td>PHYS2041 Workshop</td>\n",
    "    <td></td>\n",
    "    <td></td>\n",
    "    <td></td>\n",
    "  </tr>\n",
    "  <tr>\n",
    "    <td>12-1</td>\n",
    "    <td></td>\n",
    "    <td>PHYS2041 Workshop (cont.)</td>\n",
    "    <td></td>\n",
    "    <td></td>\n",
    "    <td>STAT2004 Lecture</td>\n",
    "  </tr>\n",
    "  <tr>\n",
    "    <td>1-2</td>\n",
    "    <td></td>\n",
    "    <td></td>\n",
    "    <td></td>\n",
    "    <td>MATH1061 Tutoring</td>\n",
    "    <td>MATH1061 Tutoring</td>\n",
    "  </tr>\n",
    "  <tr>\n",
    "    <td>2-3</td>\n",
    "    <td></td>\n",
    "    <td></td>\n",
    "    <td></td>\n",
    "    <td>PHYS2041 Lab</td>\n",
    "    <td>PHYS1711 Tutoring</td>\n",
    "  </tr>\n",
    "  <tr>\n",
    "    <td>3-4</td>\n",
    "    <td></td>\n",
    "    <td></td>\n",
    "    <td></td>\n",
    "    <td>PHYS2041 Lab (cont.)</td>\n",
    "    <td>PHYS1711 Tutoring (cont.)</td>\n",
    "  </tr>\n",
    "  <tr>\n",
    "    <td>4-5</td>\n",
    "    <td></td>\n",
    "    <td></td>\n",
    "    <td></td>\n",
    "    <td>PHYS2041 Lab (cont.)</td>\n",
    "    <td>PHYS1711 Tutoring (cont.)</td>\n",
    "  </tr>\n",
    "  <tr>\n",
    "    <td>5-6</td>\n",
    "    <td>MATH2504 Lecture</td>\n",
    "    <td>STAT2004 Tutorial</td>\n",
    "    <td></td>\n",
    "    <td></td>\n",
    "    <td></td>\n",
    "  </tr>\n",
    "  <tr>\n",
    "    <td>6-7</td>\n",
    "    <td>MATH2504 Lecture (cont.)</td>\n",
    "    <td>MATH2504 Lecture</td>\n",
    "    <td></td>\n",
    "    <td></td>\n",
    "    <td></td>\n",
    "  </tr>\n",
    "</tbody>\n",
    "</table>"
   ]
  },
  {
   "cell_type": "markdown",
   "metadata": {},
   "source": [
    "# Solution to [Question 2](https://courses.smp.uq.edu.au/MATH2504/2022/assessment_html/bighw.html#q2)"
   ]
  },
  {
   "cell_type": "markdown",
   "metadata": {},
   "source": [
    "#### 2a:"
   ]
  },
  {
   "cell_type": "code",
   "execution_count": null,
   "metadata": {},
   "outputs": [],
   "source": [
    "# Code modified from task sheet\n",
    "function real_roots_of_quadratic(a::Number, b::Number, c::Number)\n",
    "\n",
    "    #=\n",
    "    if a==0\n",
    "        return \"Error - this is not a quadratic equation\"\n",
    "    end\n",
    "    =#\n",
    "    \n",
    "    # a == 0 && return \"Error - this is not a quadratic equation\"\n",
    "    \n",
    "    # Replace 'a == 0' with 'a==0 || !all(isfinite.([a,b,c]))' is NaN and infite values should also be reported\n",
    "    a == 0 && throw(DomainError(a, \"argument must be nonzero\"))\n",
    "    \n",
    "    #Start by initializing an empty array\n",
    "    roots::Array{Float64} = []\n",
    "\n",
    "    #Compute the discriminant \n",
    "    Δ = b^2 - 4a*c #\\Delta + [TAB]\n",
    "\n",
    "    #Based on the sign of the discriminant return 0, 1, or 2 roots.\n",
    "    if Δ < 0 \n",
    "        roots = []\n",
    "    elseif Δ == 0\n",
    "        roots = [-b/(2a)]\n",
    "    else\n",
    "        roots = (-b .+ [√Δ,-√Δ])/(2a) #\\sqrt + [TAB]\n",
    "    end\n",
    "    # return roots \n",
    "end\n",
    "\n",
    "#Attempting on -x²+5x-6=0\n",
    "real_roots_of_quadratic(-1,5,-6)"
   ]
  },
  {
   "cell_type": "markdown",
   "metadata": {},
   "source": [
    "1. Yes, it will work without the `::Number` specifications, as Julia will try to apply the function to whatever is in the input. Julia only uses it as a hint and to choose which method of a function to use (if you have many definition of a function with different input types).\n",
    "2. No, `4ac` would not work, as Julia reads this as 4 times the variable `ac`. It can only infer multiplication between numbers and letters, not between letters (how else could you have a varible called `ac`).\n",
    "3. This is a syntax error. `Δ = 0` uses the equal sign to mean \"set the left-hand-side variable to the value of the right-hand-side\". In other programming languages, this also produces a value, but it does not in Julia, so it cannot use it as the condition for the `if`-statement.\n",
    "4. Yes, using `.+` adds `-b` to both elements of the array (this is similar to how MATLAB would turn `-b` into an array and add elememt-wise). However, if `+` is used instead, we are using array addition, but the dimensions of `-b` dont match `[√Δ,-√Δ]`. Thus, Julia thows an error, as it has no other method for `+` that adds scalars to arrats. (The term \"broadcast\" is used in the first case where `-b` is added to the whole of the array.)\n",
    "5. Yes, without `return roots` the function will still return. This is because `roots` is always the last variable assigned, so will be the result of the function (the last modified variable within a function will be returned if no explicit value is given).\n",
    "6. There are many inputs that lead to either errors or do not \"work\" (depending on your interpretation of \"work\"). We have classified them into three different types:\n",
    "    1. Consider if `a` is `0`, `0.0` or `-0.0` or any of the arguments are `NaN`, `Inf` or `-Inf`. We also include arguments that convert to `Inf` or `-Inf` when converted to type `::Float64` in this category (e.g. `BigInt(10^1000)`). This set of input lead to \"valid\" output (in the sense that there are no errors thrown and that the output is of type `::Number`). If `a` is set to `0`, `0.0` or `-0.0`, then we divide by 0 in the line `roots = (-b .+ [√Δ,-√Δ])/(2a)`. This leads to values such as `NaN` (not a number), `Inf` or `-Inf`, which may be considered as the function not \"working\". Likewise, if any of the arguments are `NaN`, `Inf` or `-Inf`, these will propogate throughout, leadng to these values in the output. Whether you call this \"working\" or not is personal preference, but we have included them here for completeness.\n",
    "    2. Consider if any of the arguments are of type `::Number`, but are not of type `::Real`. An example of such a value  is an complex values such as `im`. These cases will throw errors at some point, either because they cannot be converted into type `::Float64` or earlier if some other operation cannot accept those types (e.g. `<` in `if Δ < 0` will throw an error if `Δ` is complex).\n",
    "7. This can be seen above. It does work, if we only want to remove when `a` is zero. If we want to solve all issues dicussed above, further steps are needed. If you consider any input of `NaN`, `Inf` or `-Inf` to be faulty, you need to replace `if a == 0` with `if a==0 || !all(isfinite.([a,b,c]))`. The code `all(isfinite.([a,b,c]))` makes sure that the arguments are reasonable. To fix issue B, you can replace the first line `function real_roots_of_quadratic(a::Number, b::Number, c::Number)` with `function real_roots_of_quadratic(a::Real, b::Real, c::FReal)`, ensuring that all arguments can be used appropriately.\n",
    "8. This also works. In a lot of languages (Perl and C being the exaples thought of by us), the left-hand-side of logical conjugation is evaluated first, as if it is false, then there is no point in evaluating the right-hand-side (mathematically $\\bot\\land P\\equiv\\bot$ for any $P$). In the code above, if `a == 0` is false, the line is skipped. However, if it is true, we must also check the right-hand-side, so `return \"Error - this is not a quadratic equation\"` is evaluated and hence the function returns with the error.\n",
    "9. The use of `&&` is just like above. The code `throw(DomainError(a, \"argument must be nonzero\"))` (from inspection and intuition from other languages) \"throws\" an error. Specifically a new \"object\" (we are assuming errors are objects) called a `DomainError` is created. The first argument gives the reason for the domain error, and `\"argument must be nonzero\"` provides a human readible string. This is then \"thrown\"; in more general terms, the error is brought up to Julia's attention and Julia halts progress, notifying the user of the error. We also assume that this means when you call `real_roots_of_quadratic`, you could also try to catch an error, and deal with it appropriately."
   ]
  },
  {
   "cell_type": "markdown",
   "metadata": {},
   "source": [
    "#### 2b:"
   ]
  },
  {
   "cell_type": "code",
   "execution_count": null,
   "metadata": {},
   "outputs": [],
   "source": [
    "examples = [[1,-5,6], [1,2,3], [1,7,0], [1,1,1], [10, -10000, 0b1]]\n",
    "\n",
    "#=\n",
    "For part 2, the earlier version of print_quadratic_roots\n",
    "function print_quadratic_roots(coefficients, roots)\n",
    "    print(\"The equation $(example[1])x² + $(example[2])x + $(example[3]) = 0 \") #\\^2 + [TAB] #***\n",
    "    if length(roots) == 0 #***\n",
    "        println(\"has no real roots.\") #***\n",
    "    elseif length(roots) == 1 #***\n",
    "        println(\"has the single (real) root $(roots[1])\") #***\n",
    "    else #***\n",
    "        println(\"has the real roots $(roots[1]) and $(roots[2])\") #***\n",
    "    end #***\n",
    "    return nothing\n",
    "end\n",
    "=#\n",
    "\n",
    "# The newer version for part 3\n",
    "function print_quadratic_roots(coefficients, roots)\n",
    "    # Old print statement\n",
    "    # print(\"The equation $(coefficients[1])x² + $(coefficients[2])x + $(coefficients[3]) = 0 \")\n",
    "    \n",
    "    print(\"The equation $(coefficients[1] == 1 ? \"\" : (coefficients[1] == -1 ? \"- \" : coefficients[1]))x²\")\n",
    "    print(\"$(coefficients[2] < 0 ? \" - \" : \" + \")$(abs(coefficients[2]) == 1 ? \"\" : abs(coefficients[2]))x\")\n",
    "    print(\"$(coefficients[2] < 0 ? \" - \" : \" + \")$(abs(coefficients[3])) = 0 \")\n",
    "    \n",
    "    if length(roots) == 0\n",
    "        println(\"has no real roots.\")\n",
    "    elseif length(roots) == 1\n",
    "        println(\"has the single (real) root $(roots[1])\")\n",
    "    else\n",
    "        println(\"has the two real roots $(roots[1]) and $(roots[2])\")\n",
    "    end\n",
    "    return nothing\n",
    "end\n",
    "\n",
    "for example in examples\n",
    "    roots = real_roots_of_quadratic(example[1], example[2], example[3])\n",
    "    \n",
    "    #=\n",
    "    print(\"The equation $(example[1])x² + $(example[2])x + $(example[3]) = 0 \") #\\^2 + [TAB] #***\n",
    "    if length(roots) == 0 #***\n",
    "        println(\"has no real roots.\") #***\n",
    "    elseif length(roots) == 1 #***\n",
    "        println(\"has the single (real) root $(roots[1])\") #***\n",
    "    else #***\n",
    "        println(\"has the real roots $(roots[1]) and $(roots[2])\") #***\n",
    "    end #***\n",
    "    =#\n",
    "    \n",
    "    print_quadratic_roots(example, roots)\n",
    "end"
   ]
  },
  {
   "cell_type": "markdown",
   "metadata": {},
   "source": [
    "1. The examples above work. The loop goes over each sub-array, applies the `real_roots_of_quadratic` function to them and prints out the result. It does this by printing out the equation, then in different formats depending on the number of roots, prints out the roots.\n",
    "2. The function is written above (mainly rewritten from the code that was already there).\n",
    "3. The result is \"beautified\". Spaces are inserted either side of \"+\" and \"-\". Terms with coeffients of 0 were left in just in case they were wanted."
   ]
  },
  {
   "cell_type": "markdown",
   "metadata": {},
   "source": [
    "#### 2c:"
   ]
  },
  {
   "cell_type": "code",
   "execution_count": null,
   "metadata": {},
   "outputs": [],
   "source": [
    "using Random\n",
    "\"\"\"\n",
    "This function generates `num_tests` random triples of coefficients and checks that the function `real_roots_of_quadratic()` does its job. The return value is `true` if the test passed, otherwise it is `false`.\n",
    "\"\"\"\n",
    "# function test_real_roots_of_quadratic(num_tests = 10000, seed=42)\n",
    "function test_real_roots_of_quadratic(num_tests = 10000, seed=42, coeff_min=-1000, coeff_max=1000)\n",
    "    Random.seed!(seed)\n",
    "    test_passed = true\n",
    "    for _ in 1:num_tests\n",
    "        # a, b, c = 2000rand(3) .- 1000 #uniform values in the range [-1000, 1000]\n",
    "        # a, b, c = 10rand(3) .- 5 #uniform values in the range [-5, 5]\n",
    "        a, b, c = (coeff_max - coeff_min)rand(3) .+ coeff_min\n",
    "        roots = real_roots_of_quadratic(a,b,c)\n",
    "        for x in roots\n",
    "            err = a*x^2 + b*x + c \n",
    "            test_passed = (test_passed && isapprox(err, 0.0, atol = 1e-8)) \n",
    "        end\n",
    "    end\n",
    "    return test_passed\n",
    "end\n",
    "\n",
    "test_real_roots_of_quadratic() ? println(\"Test passed\") : println(\"Test failed\")"
   ]
  },
  {
   "cell_type": "markdown",
   "metadata": {},
   "source": [
    "1. Yes, it still passes. The line would need to be replaced by `a, b, c = 10rand(3) .- 5`. This is a linear transformation shifts the values of `rand` from $[0,1]$ to $[-5,5]$.\n",
    "2. The modified code is above. Note that `(coeff_max - coeff_min)rand(3) .+ coeff_min` is just a linear transformation, shifting $[0,1]$ to $[\\text{coeff_min},\\text{coeff_max}]$.\n",
    "3. The loop `for x in roots` will occur for 0 iterations (will skip over its body) if there are no roots. This is vacuously true, just like $\\forall x\\in\\emptyset, P(x)$ is true for any predicate $P$.\n",
    "4. There are a few bugs that would not be caught. One such example would just be returning no roots at the begining (say written at first just so that the function will return something), as seen below. This is because the main tesing loop would iterate 0 times (see previous answer). The testing loop does not test the number of roots returned is correct. Another bug would be returning both of the same roots. This bug could occur by replacing `roots = (-b .+ [√Δ,-√Δ])/(2a)` with `roots = (-b .+ [√Δ,√Δ])/(2a)`.\n",
    "5. *** TODO ***"
   ]
  },
  {
   "cell_type": "markdown",
   "metadata": {},
   "source": [
    "#### 2d:"
   ]
  },
  {
   "cell_type": "code",
   "execution_count": null,
   "metadata": {},
   "outputs": [],
   "source": [
    "function roots_of_quadratic(a::Number, b::Number, c::Number)\n",
    "    roots::Array{ComplexF64} = []\n",
    "    Δ = b^2 - 4a*c\n",
    "    sqrtΔ = Δ == 0 ? [0] : [√Complex(Δ), - √Complex(Δ)]\n",
    "    roots = (-b .+ sqrtΔ) / (2a)\n",
    "    return roots \n",
    "end\n",
    "\n",
    "roots_of_quadratic(1,2,3)"
   ]
  },
  {
   "cell_type": "markdown",
   "metadata": {},
   "source": [
    "# Solution to [Question 3](https://courses.smp.uq.edu.au/MATH2504/2022/assessment_html/bighw.html#q3)"
   ]
  },
  {
   "cell_type": "markdown",
   "metadata": {},
   "source": [
    "#### 3a:"
   ]
  },
  {
   "cell_type": "markdown",
   "metadata": {},
   "source": [
    "1. The expression `((x % 2 == 0) ? (x ÷ 2) : (3x + 1))` has three parts. `(x % 2 == 0) ? ` means that if the remainder when `x` is divided by 2 is 0, i.e. if `x` is even. `(x ÷ 2)` means divide `x` by 2 (rounding down, but as `x` is even, this does not need to occur). `: (3x + 1)` means otherwise, multiply by 3 and add 1. All together: \"If x is even, dvide it by two, otherwise times it by 3 and add 1.\n",
    "2. One way to state it is: Given $$f(x)=\\begin{cases}\\frac{x}{2}&\\qquad\\text{$x$ is even}\\\\ 3x+1&\\qquad\\text{$x$ is odd}\\end{cases},$$ any sequence $(a_n)_{n=1}^\\infty$ such that $a_{n+1}=f(a_n)$ for $n\\geq2$ and $a_1\\in\\mathbb{Z}^+$ has limit 1.\n",
    "3. Code is below."
   ]
  },
  {
   "cell_type": "code",
   "execution_count": null,
   "metadata": {},
   "outputs": [],
   "source": [
    "function hail_stone_sequence(x::Int, verbose::Bool = false)\n",
    "    while x != 1\n",
    "        x = ((x % 2 == 0) ? (x ÷ 2) : (3x + 1)) #\\div + [TAB] for ÷ \n",
    "        verbose && println(\"x = $x\")\n",
    "    end\n",
    "    return nothing\n",
    "end\n",
    "\n",
    "for i in 1:10^8\n",
    "    hail_stone_sequence(i)\n",
    "end\n",
    "println(\"All positive integers up to 10⁸ went to 1\")"
   ]
  },
  {
   "cell_type": "markdown",
   "metadata": {},
   "source": [
    "#### 3b:"
   ]
  },
  {
   "cell_type": "markdown",
   "metadata": {},
   "source": [
    "*** TODO ***"
   ]
  },
  {
   "cell_type": "markdown",
   "metadata": {},
   "source": [
    "#### 3c:"
   ]
  },
  {
   "cell_type": "code",
   "execution_count": null,
   "metadata": {},
   "outputs": [],
   "source": [
    "using Plots\n",
    "\n",
    "search_limit = 10^7\n",
    "\n",
    "function hail_length(x::Int64)\n",
    "    initial_x = x\n",
    "    n = 0\n",
    "    while x != 1\n",
    "        x = ((x % 2 == 0) ? (x ÷ 2) : (3x + 1))\n",
    "        n += 1\n",
    "    end\n",
    "    return n\n",
    "end\n",
    "\n",
    "step_range = 1:search_limit\n",
    "max_vals = [hail_length(N) for N in step_range]\n",
    "max_vals = accumulate(max, max_vals)\n",
    "plot(step_range, max_vals, xaxis=:log, \n",
    "   label=false, xlabel=\"Maximal initial value\", ylabel=\"Maximal number of steps\")"
   ]
  },
  {
   "cell_type": "markdown",
   "metadata": {},
   "source": [
    "The biggest slow point of the original function is due to time complexity. `hail_max(N)` runs for each value in `step_range`. For each of these runs we calculate `hail_length(x)` for each value less than or equal to `N`. This two sets of loops means that the run time is $O(n^2)$. This is quite slow, where if we calculate all the `hail_length`s fisrt, then find the cumulative maximum, we reduce the time complexity to $O(n)$. This stops us calling `hail_length` on small numbers repeatedly.\n",
    "\n",
    "Observing the plot, we can see that there seems to be a general concave increasing trend. Given the logarithmic scale, this means that the maximal number of steps increase faster than $\\log(n)$. This means that to continue testing more numbers, the time taken by `hail_length` will continue to increase at an above logarithmic rate (on average). *** TODO *** Is more needed?"
   ]
  },
  {
   "cell_type": "markdown",
   "metadata": {},
   "source": [
    "# Solution to [Question 4](https://courses.smp.uq.edu.au/MATH2504/2022/assessment_html/bighw.html#q4)"
   ]
  },
  {
   "cell_type": "markdown",
   "metadata": {},
   "source": [
    "#### 4a:"
   ]
  },
  {
   "cell_type": "markdown",
   "metadata": {},
   "source": [
    "We will first focus on `random_binary_string`. `rand(['0','1'])` selects a `0` or a `1` with uniform probability (pseudo-probability, based on the seed). This is repeated `n` times by `[rand(['0','1']) for _ in 1:n]`, which calls `rand` for each element in `1:n` and puts it into an array. The variable `_` is used a s a placeholder, as the actual index of the array does not affect what output will be there. The threee dots after this expands out the array as the inputs of the next function. This function `*`, when dealing with characters is concatination (as a string), so all the selected characters get pushed together into a string, producing the final binary string. All this code is the definition of the function `random_binary_string` whose only argument `n` (the length of the returned string) has default 12.\n",
    "\n",
    "The function `random_hex_string` has a similar structure. `union('0':'9','A':'F')` creates an array containing te characters `0` through to `9` along with the characters `A` through to `F`. `[rand(union('0':'9','A':'F')) for _ in 1:n]` then creates an array of length `n` of the characters each selected uniformly randomly. `*([rand(union('0':'9','A':'F')) for _ in 1:n]...)` Then expands out the array as the arguments for `*`, leading to all the charaters being concatinated together into a single string. In this case, `n` has default 3, so without any arguments a \"hex string\" of length 3 will be returned (as seen)."
   ]
  },
  {
   "cell_type": "markdown",
   "metadata": {},
   "source": [
    "#### 4b:"
   ]
  },
  {
   "cell_type": "markdown",
   "metadata": {},
   "source": [
    "An estimate of the sum can be done by noting that: $$\\mathbb{E}\\left(\\sum_i X_i\\right)=\\sum_i\\mathbb{E}\\left(X_i\\right)$$\n",
    "We will now show that the expectation of each string when parsed as an integer, is $\\frac{b^n-1}{2}$, where $n$ is the length of the string and $b$ is the base used. Take any string $a_{n-1}a_{n-2}\\cdots a_2a_1a_0$ where $a_n,\\ldots,a_0$ are the digits of the string when written in the usual order. Then this string has value\n",
    "$$\\sum_{i=0}^{n-1}a_ib^i,\\label{base_expansion}\\qquad \\qquad (*)$$\n",
    "for example the binary string ${1011}_2$ has value $1\\times2^3 + 0\\times 2^2 + 1\\times2^1 + 1\\times2^0 = 8+2+1 = 13$. The expected value of each digit if they are taken uniformly randomly is the average of the smallest and largest posible values, namely $\\frac{0+(b-1)}{2} = \\frac{b-1}{2}$. Thus, we have:\n",
    "$$\\mathbb{E}\\left(\\sum_{i=0}^{n-1}a_ib^i\\right) = \\sum_{i=0}^{n-1}\\mathbb{E}\\left(a_i\\right)b^i = \\sum_{i=0}^{n-1}\\frac{b-1}{2}b^i = \\frac{1}{2}\\sum_{i=0}^{n-1}\\left(b^{i+1}-b^i\\right) = \\frac{1}{2}\\left(\\sum_{i=1}^{n}b^i - \\sum_{i=0}^{n-1}b^i\\right) = \\frac{b^n-1}{2}$$\n",
    "\n",
    "Thus, the expectation of a single binary string is $\\frac{2^{12}-1}{2}=2047.5$, so the sum of $10^3$ strings should be approximately $2047.5\\times10^3=2047500$. The expectation of a single hex string is $\\frac{16^{3}-1}{2}=2047.5$, so the sum of $10^3$ strings should also be approximately $2047.5\\times10^3=2047500$."
   ]
  },
  {
   "cell_type": "code",
   "execution_count": null,
   "metadata": {},
   "outputs": [],
   "source": [
    "random_binary_string(n = 12) = *([rand(['0','1']) for _ in 1:n]...)\n",
    "random_hex_string(n=3) = *([rand(union('0':'9','A':'F')) for _ in 1:n]...);\n",
    "\n",
    "using Random\n",
    "Random.seed!(0)\n",
    "r_bin_strs = [random_binary_string() for _ in 1:10^3]\n",
    "r_hex_strs = [random_hex_string() for _ in 1:10^3]\n",
    "\n",
    "println(\"The sum of the binary strings is $(sum(parse.(Int, r_bin_strs, base=2))).\")\n",
    "println(\"The sum of the hex strings is $(sum(parse.(Int, r_hex_strs, base=16))).\")"
   ]
  },
  {
   "cell_type": "markdown",
   "metadata": {},
   "source": [
    "With both sums close to the estimate, this is reasonable."
   ]
  },
  {
   "cell_type": "markdown",
   "metadata": {},
   "source": [
    "#### 4c:"
   ]
  },
  {
   "cell_type": "code",
   "execution_count": null,
   "metadata": {},
   "outputs": [],
   "source": [
    "function custom_parse_string_to_int(x::String; base::Int)\n",
    "    # Semicolon in function definition, so that the base must be passed in as a keyword for clarity\n",
    "    n = length(x)\n",
    "    # Concert the charaters in a string into their numerical values, e.g. '1' -> 1, 'A' -> 10 etc\n",
    "    digits = Int.(zeros(n))\n",
    "    for i in 1:n\n",
    "        if x[i] ∈ '0':'9'\n",
    "            digits[i] = Int(x[i]) - Int('0')\n",
    "        elseif x[i] ∈ 'A':'Z'\n",
    "            digits[i] = Int(x[i]) - Int('A') + 10\n",
    "        elseif x[i] ∈ 'a':'z'\n",
    "            digits[i] = Int(x[i]) - Int('A') + 10\n",
    "        else\n",
    "            return \"Error - Unsupported character\"\n",
    "        end\n",
    "    end\n",
    "    # Using equation (*) from question 4b, noting that digits is in revers order\n",
    "    return sum(digits[n-i]*(base^i) for i in 0:n-1)\n",
    "end\n",
    "\n",
    "Random.seed!(0)\n",
    "r_bin_strs = [random_binary_string() for _ in 1:10^3]\n",
    "r_hex_strs = [random_hex_string() for _ in 1:10^3]\n",
    "\n",
    "println(\"The sum of the binary strings is $(sum(custom_parse_string_to_int.(r_bin_strs, base=2))).\")\n",
    "println(\"The sum of the hex strings is $(sum(custom_parse_string_to_int.(r_hex_strs, base=16))).\")"
   ]
  },
  {
   "cell_type": "markdown",
   "metadata": {},
   "source": [
    "This matches the above sums, so is reasonable."
   ]
  }
 ],
 "metadata": {
  "kernelspec": {
   "display_name": "Julia 1.7.3",
   "language": "julia",
   "name": "julia-1.7"
  },
  "language_info": {
   "file_extension": ".jl",
   "mimetype": "application/julia",
   "name": "julia",
   "version": "1.7.3"
  }
 },
 "nbformat": 4,
 "nbformat_minor": 4
}
